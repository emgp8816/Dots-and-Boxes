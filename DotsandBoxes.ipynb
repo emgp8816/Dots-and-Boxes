{
 "cells": [
  {
   "cell_type": "code",
   "execution_count": 38,
   "metadata": {},
   "outputs": [],
   "source": [
    "import time\n",
    "import random\n",
    "import os\n",
    "import numpy as np"
   ]
  },
  {
   "cell_type": "code",
   "execution_count": 70,
   "metadata": {},
   "outputs": [],
   "source": [
    "def tablero_juego(mat):\n",
    "    print('  0 1 2 3 4 5 6 7 8 ')\n",
    "    for i in range(mat.shape[0]):\n",
    "        fila=str(i)+' '\n",
    "        for j in range(mat.shape[1]):\n",
    "            num=mat[i,j]\n",
    "            if num==5:\n",
    "                fila=fila+'• '\n",
    "            elif num==-1:\n",
    "                fila=fila+'__'\n",
    "            elif num==1:\n",
    "                fila=fila+'| '\n",
    "            elif num==2:\n",
    "                fila=fila+'J '\n",
    "            elif num==3:\n",
    "                fila=fila+'C '\n",
    "            else:\n",
    "                fila=fila+'  '\n",
    "        print(fila)\n",
    "                \n",
    "            \n",
    "    "
   ]
  },
  {
   "cell_type": "code",
   "execution_count": 71,
   "metadata": {},
   "outputs": [],
   "source": [
    "def tipo_de_tiro(x,y,combinaciones):\n",
    "    ind=combinaciones.index([x,y])\n",
    "    if x%2 ==0:\n",
    "        tiro=1\n",
    "    else:     \n",
    "        tiro=-1\n",
    "    combinaciones.pop(ind)\n",
    "    return combinaciones,tiro\n",
    "    "
   ]
  },
  {
   "cell_type": "code",
   "execution_count": 148,
   "metadata": {},
   "outputs": [],
   "source": [
    "def turno_jugador(combinaciones):\n",
    "    x=int(input('Inserta la coordena x: '))\n",
    "    y=int(input('Inseta la coordena y: '))\n",
    "    try:\n",
    "        combinaciones,tiro=tipo_de_tiro(x,y,combinaciones)\n",
    "        mat[y,x]=tiro  \n",
    "    except:\n",
    "        print('Casilla no disponible')\n",
    "    turno=2\n",
    "    revisar_tablero(centros,turno)"
   ]
  },
  {
   "cell_type": "code",
   "execution_count": 143,
   "metadata": {},
   "outputs": [],
   "source": [
    "def revisar_tablero(centros,turno):\n",
    "    for i in range(len(centros)-1):\n",
    "        pos=np.array([[int(centros[i][0])-1,int(centros[i][1])],\n",
    "             [int(centros[i][0])+1,int(centros[i][1])],\n",
    "             [int(centros[i][0]),int(centros[i][1])-1],\n",
    "             [int(centros[i][0]),int(centros[i][1])+1]])\n",
    "        sup=mat[pos[0,0],pos[0,1]]\n",
    "        inf=mat[pos[1,0],pos[1,1]]\n",
    "        der=mat[pos[2,0],pos[2,1]]\n",
    "        izq=mat[pos[3,0],pos[3,1]]\n",
    "        lados=np.array([sup,inf,der,izq])\n",
    "        cont=sum(np.abs(lados))\n",
    "        if cont==4:\n",
    "            mat[int(centros[i][0]),int(centros[i][1])]=turno\n",
    "            centros1.pop(i)\n",
    "            if turno==2:\n",
    "                tablero_juego(mat)\n",
    "                turno_jugador(combinaciones)\n",
    "            if turno==3:\n",
    "                turno_computadora()"
   ]
  },
  {
   "cell_type": "code",
   "execution_count": 139,
   "metadata": {},
   "outputs": [],
   "source": [
    "mat =np.array([[5,0,5,0,5,0,5,0,5],\n",
    "               [0,0,0,0,0,0,0,0,0],\n",
    "               [5,0,5,0,5,0,5,0,5],\n",
    "               [0,0,0,0,0,0,0,0,0],\n",
    "               [5,0,5,0,5,0,5,0,5],\n",
    "               [0,0,0,0,0,0,0,0,0],\n",
    "               [5,0,5,0,5,0,5,0,5],\n",
    "               [0,0,0,0,0,0,0,0,0],\n",
    "               [5,0,5,0,5,0,5,0,5]])\n",
    "combinaciones=[]\n",
    "combinacionesC=[]\n",
    "centros=[]\n",
    "centros1=[]\n",
    "no_tirar=[]\n",
    "for i in range(0,9,2):\n",
    "    for j in range(1,9,2):\n",
    "        k=i+1\n",
    "        combinaciones.append([i,j])\n",
    "        combinaciones.append([j,i])\n",
    "        if k!=9:\n",
    "            centros.append([k,j])\n",
    "            centros1.append([k,j])\n"
   ]
  },
  {
   "cell_type": "code",
   "execution_count": 137,
   "metadata": {
    "scrolled": true
   },
   "outputs": [
    {
     "name": "stdout",
     "output_type": "stream",
     "text": [
      "  0 1 2 3 4 5 6 7 8 \n",
      "0 • __• __•   •   • \n",
      "1 | J | C |         \n",
      "2 • __• __•   •   • \n",
      "3                   \n",
      "4 •   •   •   •   • \n",
      "5                   \n",
      "6 •   •   •   •   • \n",
      "7                 | \n",
      "8 •   •   •   •   • \n"
     ]
    }
   ],
   "source": [
    "def turno_computadora():\n",
    "    turno=3\n",
    "    for i in range(len(centros)-1):\n",
    "        pos=np.array([[int(centros[i][0])-1,int(centros[i][1])],\n",
    "             [int(centros[i][0])+1,int(centros[i][1])],\n",
    "             [int(centros[i][0]),int(centros[i][1])-1],\n",
    "             [int(centros[i][0]),int(centros[i][1])+1]])\n",
    "        sup=mat[pos[0,0],pos[0,1]]\n",
    "        inf=mat[pos[1,0],pos[1,1]]\n",
    "        der=mat[pos[2,0],pos[2,1]]\n",
    "        izq=mat[pos[3,0],pos[3,1]]\n",
    "        lados=np.array([sup,inf,der,izq])\n",
    "        cont=sum(np.abs(lados))\n",
    "        if cont==4:\n",
    "            centros.pop(i)\n",
    "        elif cont==3:\n",
    "            a=np.where(lados==0)\n",
    "            y=pos[a,0]\n",
    "            x=pos[a,1]\n",
    "            combinaciones,tiro=tipo_de_tiro(x,y,combinaciones)\n",
    "            mat[y,x]=tiro\n",
    "            mat[int(centros[i][0]),int(centros[i][1])]=turno\n",
    "            tablero_juego(mat)\n",
    "        elif cont==2:\n",
    "            #En lugar de centros, almacenar lados disponibles en no tirar\n",
    "            no_tirar.append(centros[i])\n",
    "            centros1.pop(i)\n",
    "        else:\n",
    "            #Checar que la casilla no este en no tirar\n",
    "            #while\n",
    "            casilla=random.choice(combinaciones)\n",
    "            combinaciones1,tiro=tipo_de_tiro(casilla[1],casilla[0],combinaciones)\n",
    "            mat[y,x]=tiro\n",
    "    revisar_tablero(centros,turno)"
   ]
  },
  {
   "cell_type": "markdown",
   "metadata": {},
   "source": [
    "# Inicio de pruebas"
   ]
  },
  {
   "cell_type": "code",
   "execution_count": 140,
   "metadata": {},
   "outputs": [],
   "source": [
    "mat[1,0]=1\n",
    "mat[1,2]=1\n",
    "mat[0,3]=-1\n",
    "mat[2,3]=-1\n",
    "mat[0,1]=-1\n",
    "mat[2,1]=-1\n",
    "turno=2"
   ]
  },
  {
   "cell_type": "code",
   "execution_count": 141,
   "metadata": {},
   "outputs": [
    {
     "data": {
      "text/plain": [
       "array([[ 5, -1,  5, -1,  5,  0,  5,  0,  5],\n",
       "       [ 1,  0,  1,  0,  0,  0,  0,  0,  0],\n",
       "       [ 5, -1,  5, -1,  5,  0,  5,  0,  5],\n",
       "       [ 0,  0,  0,  0,  0,  0,  0,  0,  0],\n",
       "       [ 5,  0,  5,  0,  5,  0,  5,  0,  5],\n",
       "       [ 0,  0,  0,  0,  0,  0,  0,  0,  0],\n",
       "       [ 5,  0,  5,  0,  5,  0,  5,  0,  5],\n",
       "       [ 0,  0,  0,  0,  0,  0,  0,  0,  0],\n",
       "       [ 5,  0,  5,  0,  5,  0,  5,  0,  5]])"
      ]
     },
     "execution_count": 141,
     "metadata": {},
     "output_type": "execute_result"
    }
   ],
   "source": [
    "mat"
   ]
  },
  {
   "cell_type": "code",
   "execution_count": 142,
   "metadata": {},
   "outputs": [
    {
     "name": "stdout",
     "output_type": "stream",
     "text": [
      "  0 1 2 3 4 5 6 7 8 \n",
      "0 • __• __•   •   • \n",
      "1 |   |             \n",
      "2 • __• __•   •   • \n",
      "3                   \n",
      "4 •   •   •   •   • \n",
      "5                   \n",
      "6 •   •   •   •   • \n",
      "7                   \n",
      "8 •   •   •   •   • \n"
     ]
    }
   ],
   "source": [
    "tablero_juego(mat)"
   ]
  },
  {
   "cell_type": "code",
   "execution_count": 145,
   "metadata": {},
   "outputs": [
    {
     "name": "stdout",
     "output_type": "stream",
     "text": [
      "Inserta la coordena x: 4\n",
      "Inseta la coordena y: 1\n",
      "  0 1 2 3 4 5 6 7 8 \n",
      "0 • __• __•   •   • \n",
      "1 | J |   |         \n",
      "2 • __• __•   •   • \n",
      "3                   \n",
      "4 •   •   •   •   • \n",
      "5                   \n",
      "6 •   •   •   •   • \n",
      "7                   \n",
      "8 •   •   •   •   • \n",
      "Inserta la coordena x: 3\n",
      "Inseta la coordena y: 0\n",
      "  0 1 2 3 4 5 6 7 8 \n",
      "0 • __• __•   •   • \n",
      "1 | J | J |         \n",
      "2 • __• __•   •   • \n",
      "3                   \n",
      "4 •   •   •   •   • \n",
      "5                   \n",
      "6 •   •   •   •   • \n",
      "7                   \n",
      "8 •   •   •   •   • \n"
     ]
    }
   ],
   "source": [
    "revisar_tablero(centros,turno)"
   ]
  },
  {
   "cell_type": "raw",
   "metadata": {},
   "source": [
    "import random\n",
    "posiciones = [0,1, 2, 3, 4,5,6,7,8]\n",
    "casilla=random.choice(posiciones)\n",
    "posiciones[posiciones==casilla]=''\n",
    "print(posiciones)\n",
    "casilla=random.choice(posiciones)\n",
    "print(casilla)"
   ]
  }
 ],
 "metadata": {
  "kernelspec": {
   "display_name": "Python 3 (ipykernel)",
   "language": "python",
   "name": "python3"
  },
  "language_info": {
   "codemirror_mode": {
    "name": "ipython",
    "version": 3
   },
   "file_extension": ".py",
   "mimetype": "text/x-python",
   "name": "python",
   "nbconvert_exporter": "python",
   "pygments_lexer": "ipython3",
   "version": "3.8.5"
  }
 },
 "nbformat": 4,
 "nbformat_minor": 4
}
